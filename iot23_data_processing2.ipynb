{
  "nbformat": 4,
  "nbformat_minor": 0,
  "metadata": {
    "colab": {
      "provenance": []
    },
    "kernelspec": {
      "name": "python3",
      "display_name": "Python 3"
    },
    "language_info": {
      "name": "python"
    }
  },
  "cells": [
    {
      "cell_type": "code",
      "source": [
        "from google.colab import drive\n",
        "drive.mount('/content/gdrive')"
      ],
      "metadata": {
        "colab": {
          "base_uri": "https://localhost:8080/"
        },
        "id": "6tKuml9F39oQ",
        "outputId": "ec07fd44-1750-4ee9-8115-e33da5c958ef"
      },
      "execution_count": null,
      "outputs": [
        {
          "output_type": "stream",
          "name": "stdout",
          "text": [
            "Mounted at /content/gdrive\n"
          ]
        }
      ]
    },
    {
      "cell_type": "code",
      "execution_count": null,
      "metadata": {
        "id": "FoIRD1ou26Dx"
      },
      "outputs": [],
      "source": [
        "import pandas as pd"
      ]
    },
    {
      "cell_type": "markdown",
      "source": [
        "Sampled data to be processed"
      ],
      "metadata": {
        "id": "mkkn9fM54RpG"
      }
    },
    {
      "cell_type": "code",
      "source": [
        "p11 = r\"/content/gdrive/MyDrive/iot_23_datasets_small/csv_files/df_m11.csv\"\n",
        "p31 = r\"/content/gdrive/MyDrive/iot_23_datasets_small/csv_files/df_m31.csv\"\n",
        "p71 = r\"/content/gdrive/MyDrive/iot_23_datasets_small/csv_files/df_m71.csv\"\n",
        "p81 = r\"/content/gdrive/MyDrive/iot_23_datasets_small/csv_files/df_m81.csv\"\n",
        "p201 = r\"/content/gdrive/MyDrive/iot_23_datasets_small/csv_files/df_m201.csv\"\n",
        "p211 = r\"/content/gdrive/MyDrive/iot_23_datasets_small/csv_files/df_m211.csv\"\n",
        "p341 = r\"/content/gdrive/MyDrive/iot_23_datasets_small/csv_files/df_m341.csv\"\n",
        "p351 = r\"/content/gdrive/MyDrive/iot_23_datasets_small/csv_files/df_m351.csv\"\n",
        "p421 = r\"/content/gdrive/MyDrive/iot_23_datasets_small/csv_files/df_m421.csv\"\n",
        "p441 = r\"/content/gdrive/MyDrive/iot_23_datasets_small/csv_files/df_m441.csv\"\n",
        "p481 = r\"/content/gdrive/MyDrive/iot_23_datasets_small/csv_files/df_m481.csv\"\n",
        "p491 = r\"/content/gdrive/MyDrive/iot_23_datasets_small/csv_files/df_m491.csv\"\n",
        "p601 = r\"/content/gdrive/MyDrive/iot_23_datasets_small/csv_files/df_m601.csv\""
      ],
      "metadata": {
        "id": "RHhSUmI13Fc1"
      },
      "execution_count": null,
      "outputs": []
    },
    {
      "cell_type": "code",
      "source": [
        "df11 = pd.read_csv(p11,on_bad_lines='skip',sep=',',low_memory=False)"
      ],
      "metadata": {
        "id": "z51WjkJM5RSI"
      },
      "execution_count": null,
      "outputs": []
    },
    {
      "cell_type": "code",
      "source": [
        "df31 = pd.read_csv(p31,on_bad_lines='skip',sep=',',low_memory=False)"
      ],
      "metadata": {
        "id": "XNYKkUdX6i7B"
      },
      "execution_count": null,
      "outputs": []
    },
    {
      "cell_type": "code",
      "source": [
        "df71 = pd.read_csv(p71,on_bad_lines='skip',sep=',',low_memory=False)"
      ],
      "metadata": {
        "id": "ZKS21zzp7EbU"
      },
      "execution_count": null,
      "outputs": []
    },
    {
      "cell_type": "code",
      "source": [
        "df81 = pd.read_csv(p81,on_bad_lines='skip',sep=',',low_memory=False)"
      ],
      "metadata": {
        "id": "vaQ9wJTm7KXU"
      },
      "execution_count": null,
      "outputs": []
    },
    {
      "cell_type": "code",
      "source": [
        "df201 = pd.read_csv(p201,on_bad_lines='skip',sep=',',low_memory=False)"
      ],
      "metadata": {
        "id": "X3ia58C57NNf"
      },
      "execution_count": null,
      "outputs": []
    },
    {
      "cell_type": "code",
      "source": [
        "df211 = pd.read_csv(p211,on_bad_lines='skip',sep=',',low_memory=False)"
      ],
      "metadata": {
        "id": "gxt7Gqxh7PT_"
      },
      "execution_count": null,
      "outputs": []
    },
    {
      "cell_type": "code",
      "source": [
        "df341 = pd.read_csv(p341,on_bad_lines='skip',sep=',',low_memory=False)"
      ],
      "metadata": {
        "id": "p6049jn77R_P"
      },
      "execution_count": null,
      "outputs": []
    },
    {
      "cell_type": "code",
      "source": [
        "df351 = pd.read_csv(p351,on_bad_lines='skip',sep=',',low_memory=False)"
      ],
      "metadata": {
        "id": "qBrKW7UM7SZp"
      },
      "execution_count": null,
      "outputs": []
    },
    {
      "cell_type": "code",
      "source": [
        "df421 = pd.read_csv(p421,on_bad_lines='skip',sep=',',low_memory=False)"
      ],
      "metadata": {
        "id": "zgCrFC_K7Sj9"
      },
      "execution_count": null,
      "outputs": []
    },
    {
      "cell_type": "code",
      "source": [
        "df441 = pd.read_csv(p441,on_bad_lines='skip',sep=',',low_memory=False)"
      ],
      "metadata": {
        "id": "bpqVOnXX7Ssg"
      },
      "execution_count": null,
      "outputs": []
    },
    {
      "cell_type": "code",
      "source": [
        "df481 = pd.read_csv(p481,on_bad_lines='skip',sep=',',low_memory=False)"
      ],
      "metadata": {
        "id": "k46O-DyG7S0y"
      },
      "execution_count": null,
      "outputs": []
    },
    {
      "cell_type": "code",
      "source": [
        "df491 = pd.read_csv(p491,on_bad_lines='skip',sep=',',low_memory=False)"
      ],
      "metadata": {
        "id": "t-b_CokT7S8c"
      },
      "execution_count": null,
      "outputs": []
    },
    {
      "cell_type": "code",
      "source": [
        "df601 = pd.read_csv(p601,on_bad_lines='skip',sep=',',low_memory=False)"
      ],
      "metadata": {
        "id": "g6Hnd9bK7TE2"
      },
      "execution_count": null,
      "outputs": []
    },
    {
      "cell_type": "markdown",
      "source": [
        "Concatenating the samples"
      ],
      "metadata": {
        "id": "9YB_R1HJ7sn5"
      }
    },
    {
      "cell_type": "code",
      "source": [
        "frames = [df11,df31,df71,df81,df201,df211,df341,df351,df421,df441,df481,df491,df601]\n",
        "combinedDf = pd.concat(frames)"
      ],
      "metadata": {
        "id": "Qu2r_dm77kFY"
      },
      "execution_count": null,
      "outputs": []
    },
    {
      "cell_type": "code",
      "source": [
        "combinedDf.loc[:,'label'].value_counts()"
      ],
      "metadata": {
        "colab": {
          "base_uri": "https://localhost:8080/"
        },
        "id": "hynQp-FN8LHZ",
        "outputId": "d13bee95-ab9e-495c-b1c0-fd2e4820d7b0"
      },
      "execution_count": null,
      "outputs": [
        {
          "output_type": "execute_result",
          "data": {
            "text/plain": [
              "-   Malicious   PartOfAHorizontalPortScan          2197773\n",
              "-   Benign   -                                     2074372\n",
              "-   Malicious   DDoS                               1444033\n",
              "(empty)   Malicious   Okiru                         708345\n",
              "(empty)   Malicious   PartOfAHorizontalPortScan     171208\n",
              "(empty)   Benign   -                                119648\n",
              "COLnd035cNITygYHp3   Benign   -                       2878\n",
              "(empty)   Malicious   DDoS                            2474\n",
              "-   Malicious   C&C                                   2125\n",
              "(empty)   Malicious   C&C                             2079\n",
              "(empty)   Malicious   Attack                          1483\n",
              "CARhxZ3hLNVO3xYFok   Benign   -                       1279\n",
              "-   Malicious   Attack                                 706\n",
              "(empty)   Malicious   C&C-HeartBeat                    339\n",
              "-   Malicious   C&C-PartOfAHorizontalPortScan          233\n",
              "-   Malicious   C&C-HeartBeat-Attack                   195\n",
              "-   Malicious   C&C-HeartBeat                           27\n",
              "-   Malicious   C&C-Torii                               10\n",
              "set[string]   string   string                            6\n",
              "-   Malicious   C&C-HeartBeat-FileDownload               5\n",
              "-   Malicious   C&C-FileDownload                         5\n",
              "-   Malicious   FileDownload                             4\n",
              "Name: label, dtype: int64"
            ]
          },
          "metadata": {},
          "execution_count": 26
        }
      ]
    },
    {
      "cell_type": "code",
      "source": [
        "combinedDf.loc[(combinedDf.label == '-   Malicious   PartOfAHorizontalPortScan'), 'label'] = 'PartOfAHorizontalPortScan'\n",
        "combinedDf.loc[(combinedDf.label == '(empty)   Malicious   PartOfAHorizontalPortScan'), 'label'] = 'PartOfAHorizontalPortScan'\n",
        "combinedDf.loc[(combinedDf.label == '-   Malicious   C&C-PartOfAHorizontalPortScan'), 'label'] = 'C&C-PartOfAHorizontalPortScan'\n",
        "combinedDf.loc[(combinedDf.label == '-   Malicious   Okiru'), 'label'] = 'Okiru'\n",
        "combinedDf.loc[(combinedDf.label == '(empty)   Malicious   Okiru'), 'label'] = 'Okiru'\n",
        "combinedDf.loc[(combinedDf.label == '-   Benign   -'), 'label'] = 'Benign'\n",
        "combinedDf.loc[(combinedDf.label == '(empty)   Benign   -'), 'label'] = 'Benign'\n",
        "combinedDf.loc[(combinedDf.label == '-   Malicious   DDoS'), 'label'] = 'DDoS'\n",
        "combinedDf.loc[(combinedDf.label == '(empty)   Malicious   DDoS'), 'label'] = 'DDoS'\n",
        "combinedDf.loc[(combinedDf.label == '-   Malicious   C&C'), 'label'] = 'C&C'\n",
        "combinedDf.loc[(combinedDf.label == '(empty)   Malicious   C&C'), 'label'] = 'C&C'\n",
        "combinedDf.loc[(combinedDf.label == '-   Malicious   Attack'), 'label'] = 'Attack'\n",
        "combinedDf.loc[(combinedDf.label == '(empty)   Malicious   Attack'), 'label'] = 'Attack'\n",
        "combinedDf.loc[(combinedDf.label == '-   Malicious   C&C-HeartBeat'), 'label'] = 'C&C-HeartBeat'\n",
        "combinedDf.loc[(combinedDf.label == '-   Malicious   C&C-HeartBeat-Attack'),'label'] = 'C&C-HeartBeat' \n",
        "combinedDf.loc[(combinedDf.label == '(empty)   Malicious   C&C-HeartBeat'), 'label'] = 'C&C-HeartBeat'\n",
        "combinedDf.loc[(combinedDf.label == '-   Malicious   C&C-FileDownload'), 'label'] = 'C&C-FileDownload'\n",
        "combinedDf.loc[(combinedDf.label == '-   Malicious   C&C-Torii'), 'label'] = 'C&C-Torii'\n",
        "combinedDf.loc[(combinedDf.label == '-   Malicious   C&C-HeartBeat-FileDownload'), 'label'] = 'C&C-HeartBeat-FileDownload'\n",
        "combinedDf.loc[(combinedDf.label == '-   Malicious   FileDownload'), 'label'] = 'FileDownload'\n",
        "combinedDf.loc[(combinedDf.label == '-   Malicious   C&C-Mirai'), 'label'] = 'C&C-Mirai'\n",
        "combinedDf.loc[(combinedDf.label == '-   Malicious   Okiru-Attack'), 'label'] = 'Okiru-Attack'\n",
        "combinedDf.loc[(combinedDf.label == 'COLnd035cNITygYHp3   Benign   -'),'label'] = 'Benign'\n",
        "combinedDf.loc[(combinedDf.label == 'CARhxZ3hLNVO3xYFok   Benign   -'),'label'] = 'Benign'\n",
        "combinedDf.loc[(combinedDf.label == 'set[string]   string   string'),'label'] = 'String'"
      ],
      "metadata": {
        "id": "BhbJrgaj8R31"
      },
      "execution_count": null,
      "outputs": []
    },
    {
      "cell_type": "code",
      "source": [
        "combinedDf.loc[:,'label'].value_counts()"
      ],
      "metadata": {
        "colab": {
          "base_uri": "https://localhost:8080/"
        },
        "id": "wtBpWKdL8g9X",
        "outputId": "062435c8-2b4e-49cb-e822-b0e8d93759c7"
      },
      "execution_count": null,
      "outputs": [
        {
          "output_type": "execute_result",
          "data": {
            "text/plain": [
              "PartOfAHorizontalPortScan        2368981\n",
              "Benign                           2198177\n",
              "DDoS                             1446507\n",
              "Okiru                             708345\n",
              "C&C                                 4204\n",
              "Attack                              2189\n",
              "C&C-HeartBeat                        561\n",
              "C&C-PartOfAHorizontalPortScan        233\n",
              "C&C-Torii                             10\n",
              "String                                 6\n",
              "C&C-FileDownload                       5\n",
              "C&C-HeartBeat-FileDownload             5\n",
              "FileDownload                           4\n",
              "Name: label, dtype: int64"
            ]
          },
          "metadata": {},
          "execution_count": 39
        }
      ]
    },
    {
      "cell_type": "code",
      "source": [
        "combinedDf.shape\n",
        "combinedDf.columns"
      ],
      "metadata": {
        "colab": {
          "base_uri": "https://localhost:8080/"
        },
        "id": "huRuU0KK8jpR",
        "outputId": "cdae0e00-28cc-46d1-ca3b-ca5b7ba83d8c"
      },
      "execution_count": null,
      "outputs": [
        {
          "output_type": "execute_result",
          "data": {
            "text/plain": [
              "Index(['Unnamed: 0', 'ts', 'uid', 'id.orig_h', 'id.orig_p', 'id.resp_h',\n",
              "       'id.resp_p', 'proto', 'service', 'duration', 'orig_bytes', 'resp_bytes',\n",
              "       'conn_state', 'local_orig', 'local_resp', 'missed_bytes', 'history',\n",
              "       'orig_pkts', 'orig_ip_bytes', 'resp_pkts', 'resp_ip_bytes', 'label'],\n",
              "      dtype='object')"
            ]
          },
          "metadata": {},
          "execution_count": 41
        }
      ]
    },
    {
      "cell_type": "code",
      "source": [
        "combinedDf['duration'] = combinedDf['duration'].str.replace('-','0')\n",
        "#dataFrame['duration'] = pd.to_numeric(dataFrame['duration'],errors='ignore')\n",
        "#dataFrame['duration'].astype(str).astype(int)\n",
        "#dataFrame['duration'] = dataFrame['duration'].apply(lambda x: pd.to_numeric(x, errors = 'ignore'))\n",
        "combinedDf['orig_bytes'] = combinedDf['orig_bytes'].str.replace('-','0')\n",
        "combinedDf['resp_bytes'] = combinedDf['resp_bytes'].str.replace('-','0')"
      ],
      "metadata": {
        "id": "GPUhHTRJUwfP"
      },
      "execution_count": null,
      "outputs": []
    },
    {
      "cell_type": "code",
      "source": [
        "combinedDf=combinedDf.drop(['id.orig_h','id.resp_h','uid'], axis=1)"
      ],
      "metadata": {
        "id": "JIHrrgq7_Nv2"
      },
      "execution_count": null,
      "outputs": []
    },
    {
      "cell_type": "code",
      "source": [
        "combinedDf.to_csv('/content/gdrive/MyDrive/iot_23_datasets_small/csv_files/combinedDf.csv')"
      ],
      "metadata": {
        "id": "WGDR2FybBaka"
      },
      "execution_count": null,
      "outputs": []
    },
    {
      "cell_type": "code",
      "source": [
        "combinedDf.columns"
      ],
      "metadata": {
        "colab": {
          "base_uri": "https://localhost:8080/"
        },
        "id": "MsSa7337CFas",
        "outputId": "1942156e-4846-4dcb-c75e-5cf8ae352a0c"
      },
      "execution_count": null,
      "outputs": [
        {
          "output_type": "execute_result",
          "data": {
            "text/plain": [
              "Index(['Unnamed: 0', 'ts', 'id.orig_p', 'id.resp_p', 'proto', 'service',\n",
              "       'duration', 'orig_bytes', 'resp_bytes', 'conn_state', 'local_orig',\n",
              "       'local_resp', 'missed_bytes', 'history', 'orig_pkts', 'orig_ip_bytes',\n",
              "       'resp_pkts', 'resp_ip_bytes', 'label'],\n",
              "      dtype='object')"
            ]
          },
          "metadata": {},
          "execution_count": 46
        }
      ]
    }
  ]
}