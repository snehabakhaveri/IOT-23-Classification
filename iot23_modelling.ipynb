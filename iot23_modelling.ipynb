{
  "nbformat": 4,
  "nbformat_minor": 0,
  "metadata": {
    "colab": {
      "provenance": []
    },
    "kernelspec": {
      "name": "python3",
      "display_name": "Python 3"
    },
    "language_info": {
      "name": "python"
    }
  },
  "cells": [
    {
      "cell_type": "markdown",
      "source": [
        "Modelling"
      ],
      "metadata": {
        "id": "bFfL2mdpDcuZ"
      }
    },
    {
      "cell_type": "code",
      "source": [
        "from google.colab import drive\n",
        "drive.mount('/content/gdrive')"
      ],
      "metadata": {
        "colab": {
          "base_uri": "https://localhost:8080/"
        },
        "id": "jsFrXkNPHuGH",
        "outputId": "0595d75e-1924-4cd7-8bf8-0398fc7a8a8d"
      },
      "execution_count": null,
      "outputs": [
        {
          "output_type": "stream",
          "name": "stdout",
          "text": [
            "Drive already mounted at /content/gdrive; to attempt to forcibly remount, call drive.mount(\"/content/gdrive\", force_remount=True).\n"
          ]
        }
      ]
    },
    {
      "cell_type": "code",
      "execution_count": null,
      "metadata": {
        "id": "VOFUU2rtCeT6"
      },
      "outputs": [],
      "source": [
        "import pandas as pd\n",
        "from sklearn.svm import SVC\n",
        "from sklearn.model_selection import GridSearchCV\n",
        "from sklearn.metrics import classification_report, confusion_matrix\n",
        "from sklearn.model_selection import train_test_split\n",
        "import time\n",
        "import numpy as np"
      ]
    },
    {
      "cell_type": "code",
      "source": [
        "dataFrame = pd.read_csv('/content/gdrive/MyDrive/iot_23_datasets_small/csv_files/combinedDf.csv',low_memory=False)"
      ],
      "metadata": {
        "id": "Oihdl_taDjZO"
      },
      "execution_count": null,
      "outputs": []
    },
    {
      "cell_type": "code",
      "source": [
        "from sklearn.preprocessing import LabelEncoder\n",
        "encoder = LabelEncoder()\n",
        "dataFrame['duration'] = dataFrame['duration'].astype(str)\n",
        "dataFrame['duration'] = encoder.fit_transform(dataFrame['duration'])\n",
        "dataFrame['orig_bytes'] = dataFrame['orig_bytes'].astype(str)\n",
        "dataFrame['orig_bytes'] = encoder.fit_transform(dataFrame['orig_bytes'])\n",
        "dataFrame['resp_bytes'] = dataFrame['resp_bytes'].astype(str)\n",
        "dataFrame['resp_bytes'] = encoder.fit_transform(dataFrame['resp_bytes'])\n",
        "dataFrame['missed_bytes'] = dataFrame['missed_bytes'].astype(str)\n",
        "dataFrame['missed_bytes'] = encoder.fit_transform(dataFrame['missed_bytes'])\n",
        "dataFrame['orig_pkts'] = dataFrame['orig_pkts'].astype(str)\n",
        "dataFrame['orig_pkts'] = encoder.fit_transform(dataFrame['orig_pkts'])\n",
        "dataFrame['resp_pkts'] = dataFrame['resp_pkts'].astype(str)\n",
        "dataFrame['resp_pkts'] = encoder.fit_transform(dataFrame['resp_pkts'])\n",
        "dataFrame['orig_ip_bytes'] = dataFrame['orig_ip_bytes'].astype(str)\n",
        "dataFrame['orig_ip_bytes'] = encoder.fit_transform(dataFrame['orig_ip_bytes'])\n",
        "dataFrame['resp_ip_bytes'] = dataFrame['resp_ip_bytes'].astype(str)\n",
        "dataFrame['resp_ip_bytes'] = encoder.fit_transform(dataFrame['resp_ip_bytes'])\n",
        "dataFrame['local_orig'] = dataFrame['local_orig'].astype(str)\n",
        "dataFrame['local_orig'] = encoder.fit_transform(dataFrame['local_orig'])\n",
        "dataFrame['local_resp'] = dataFrame['local_resp'].astype(str)\n",
        "dataFrame['local_resp'] = encoder.fit_transform(dataFrame['local_resp'])"
      ],
      "metadata": {
        "id": "HL25j0LpWY8B"
      },
      "execution_count": null,
      "outputs": []
    },
    {
      "cell_type": "code",
      "source": [
        "dataFrame.columns"
      ],
      "metadata": {
        "colab": {
          "base_uri": "https://localhost:8080/"
        },
        "id": "Rga7R9xxIo3L",
        "outputId": "9af4b676-9261-48eb-8b01-9477fb7de1d4"
      },
      "execution_count": null,
      "outputs": [
        {
          "output_type": "execute_result",
          "data": {
            "text/plain": [
              "Index(['Unnamed: 0', 'ts', 'id.orig_p', 'id.resp_p', 'proto', 'service',\n",
              "       'duration', 'orig_bytes', 'resp_bytes', 'conn_state', 'local_orig',\n",
              "       'local_resp', 'missed_bytes', 'history', 'orig_pkts', 'orig_ip_bytes',\n",
              "       'resp_pkts', 'resp_ip_bytes', 'label'],\n",
              "      dtype='object')"
            ]
          },
          "metadata": {},
          "execution_count": 4
        }
      ]
    },
    {
      "cell_type": "code",
      "source": [
        "del dataFrame['Unnamed: 0']"
      ],
      "metadata": {
        "id": "sxrSoKVyIt2z"
      },
      "execution_count": null,
      "outputs": []
    },
    {
      "cell_type": "code",
      "source": [
        "dataFrame['duration']"
      ],
      "metadata": {
        "colab": {
          "base_uri": "https://localhost:8080/"
        },
        "id": "bijZ3YZjUWhZ",
        "outputId": "d3ab1ce5-520c-4079-9d80-d18522f3ef19"
      },
      "execution_count": null,
      "outputs": [
        {
          "output_type": "execute_result",
          "data": {
            "text/plain": [
              "0            interval\n",
              "1                   0\n",
              "2            2.998804\n",
              "3                   0\n",
              "4                   0\n",
              "              ...    \n",
              "6729222    797.333834\n",
              "6729223      0.005497\n",
              "6729224      0.004499\n",
              "6729225      0.007994\n",
              "6729226      0.005497\n",
              "Name: duration, Length: 6729227, dtype: object"
            ]
          },
          "metadata": {},
          "execution_count": 6
        }
      ]
    },
    {
      "cell_type": "code",
      "source": [
        "dataFrame.columns"
      ],
      "metadata": {
        "colab": {
          "base_uri": "https://localhost:8080/"
        },
        "id": "9oUWVVRbJGL4",
        "outputId": "dd4f9ff0-0826-4690-a771-7159260f85d0"
      },
      "execution_count": null,
      "outputs": [
        {
          "output_type": "execute_result",
          "data": {
            "text/plain": [
              "Index(['ts', 'id.orig_p', 'id.resp_p', 'proto', 'service', 'duration',\n",
              "       'orig_bytes', 'resp_bytes', 'conn_state', 'local_orig', 'local_resp',\n",
              "       'missed_bytes', 'history', 'orig_pkts', 'orig_ip_bytes', 'resp_pkts',\n",
              "       'resp_ip_bytes', 'label'],\n",
              "      dtype='object')"
            ]
          },
          "metadata": {},
          "execution_count": 7
        }
      ]
    },
    {
      "cell_type": "code",
      "source": [
        "dataFrame = pd.get_dummies(dataFrame, columns=['proto'])\n",
        "dataFrame= pd.get_dummies(dataFrame, columns=['conn_state'])\n",
        "dataFrame.head()"
      ],
      "metadata": {
        "colab": {
          "base_uri": "https://localhost:8080/",
          "height": 299
        },
        "id": "V7CcDrETJiAe",
        "outputId": "7e5a5fc5-087f-45b7-aa1d-2584b8703492"
      },
      "execution_count": null,
      "outputs": [
        {
          "output_type": "execute_result",
          "data": {
            "text/plain": [
              "                  ts id.orig_p id.resp_p service  duration orig_bytes  \\\n",
              "0               time      port      port  string  interval      count   \n",
              "1  1525879831.025055     56305        23       -         0          0   \n",
              "2  1525879833.016171     34243     49560       -  2.998804          0   \n",
              "3  1525879834.024847     58525        23       -         0          0   \n",
              "4  1525879838.024838     51524        23       -         0          0   \n",
              "\n",
              "  resp_bytes local_orig local_resp missed_bytes  ... conn_state_RSTR  \\\n",
              "0      count       bool       bool        count  ...               0   \n",
              "1          0          -          -            0  ...               0   \n",
              "2          0          -          -            0  ...               0   \n",
              "3          0          -          -            0  ...               0   \n",
              "4          0          -          -            0  ...               0   \n",
              "\n",
              "  conn_state_RSTRH conn_state_S0 conn_state_S1 conn_state_S2 conn_state_S3  \\\n",
              "0                0             0             0             0             0   \n",
              "1                0             1             0             0             0   \n",
              "2                0             1             0             0             0   \n",
              "3                0             1             0             0             0   \n",
              "4                0             1             0             0             0   \n",
              "\n",
              "   conn_state_SF  conn_state_SH  conn_state_SHR  conn_state_string  \n",
              "0              0              0               0                  1  \n",
              "1              0              0               0                  0  \n",
              "2              0              0               0                  0  \n",
              "3              0              0               0                  0  \n",
              "4              0              0               0                  0  \n",
              "\n",
              "[5 rows x 34 columns]"
            ],
            "text/html": [
              "\n",
              "  <div id=\"df-56a94c52-3bb6-4274-9270-6a0bb867ddfc\">\n",
              "    <div class=\"colab-df-container\">\n",
              "      <div>\n",
              "<style scoped>\n",
              "    .dataframe tbody tr th:only-of-type {\n",
              "        vertical-align: middle;\n",
              "    }\n",
              "\n",
              "    .dataframe tbody tr th {\n",
              "        vertical-align: top;\n",
              "    }\n",
              "\n",
              "    .dataframe thead th {\n",
              "        text-align: right;\n",
              "    }\n",
              "</style>\n",
              "<table border=\"1\" class=\"dataframe\">\n",
              "  <thead>\n",
              "    <tr style=\"text-align: right;\">\n",
              "      <th></th>\n",
              "      <th>ts</th>\n",
              "      <th>id.orig_p</th>\n",
              "      <th>id.resp_p</th>\n",
              "      <th>service</th>\n",
              "      <th>duration</th>\n",
              "      <th>orig_bytes</th>\n",
              "      <th>resp_bytes</th>\n",
              "      <th>local_orig</th>\n",
              "      <th>local_resp</th>\n",
              "      <th>missed_bytes</th>\n",
              "      <th>...</th>\n",
              "      <th>conn_state_RSTR</th>\n",
              "      <th>conn_state_RSTRH</th>\n",
              "      <th>conn_state_S0</th>\n",
              "      <th>conn_state_S1</th>\n",
              "      <th>conn_state_S2</th>\n",
              "      <th>conn_state_S3</th>\n",
              "      <th>conn_state_SF</th>\n",
              "      <th>conn_state_SH</th>\n",
              "      <th>conn_state_SHR</th>\n",
              "      <th>conn_state_string</th>\n",
              "    </tr>\n",
              "  </thead>\n",
              "  <tbody>\n",
              "    <tr>\n",
              "      <th>0</th>\n",
              "      <td>time</td>\n",
              "      <td>port</td>\n",
              "      <td>port</td>\n",
              "      <td>string</td>\n",
              "      <td>interval</td>\n",
              "      <td>count</td>\n",
              "      <td>count</td>\n",
              "      <td>bool</td>\n",
              "      <td>bool</td>\n",
              "      <td>count</td>\n",
              "      <td>...</td>\n",
              "      <td>0</td>\n",
              "      <td>0</td>\n",
              "      <td>0</td>\n",
              "      <td>0</td>\n",
              "      <td>0</td>\n",
              "      <td>0</td>\n",
              "      <td>0</td>\n",
              "      <td>0</td>\n",
              "      <td>0</td>\n",
              "      <td>1</td>\n",
              "    </tr>\n",
              "    <tr>\n",
              "      <th>1</th>\n",
              "      <td>1525879831.025055</td>\n",
              "      <td>56305</td>\n",
              "      <td>23</td>\n",
              "      <td>-</td>\n",
              "      <td>0</td>\n",
              "      <td>0</td>\n",
              "      <td>0</td>\n",
              "      <td>-</td>\n",
              "      <td>-</td>\n",
              "      <td>0</td>\n",
              "      <td>...</td>\n",
              "      <td>0</td>\n",
              "      <td>0</td>\n",
              "      <td>1</td>\n",
              "      <td>0</td>\n",
              "      <td>0</td>\n",
              "      <td>0</td>\n",
              "      <td>0</td>\n",
              "      <td>0</td>\n",
              "      <td>0</td>\n",
              "      <td>0</td>\n",
              "    </tr>\n",
              "    <tr>\n",
              "      <th>2</th>\n",
              "      <td>1525879833.016171</td>\n",
              "      <td>34243</td>\n",
              "      <td>49560</td>\n",
              "      <td>-</td>\n",
              "      <td>2.998804</td>\n",
              "      <td>0</td>\n",
              "      <td>0</td>\n",
              "      <td>-</td>\n",
              "      <td>-</td>\n",
              "      <td>0</td>\n",
              "      <td>...</td>\n",
              "      <td>0</td>\n",
              "      <td>0</td>\n",
              "      <td>1</td>\n",
              "      <td>0</td>\n",
              "      <td>0</td>\n",
              "      <td>0</td>\n",
              "      <td>0</td>\n",
              "      <td>0</td>\n",
              "      <td>0</td>\n",
              "      <td>0</td>\n",
              "    </tr>\n",
              "    <tr>\n",
              "      <th>3</th>\n",
              "      <td>1525879834.024847</td>\n",
              "      <td>58525</td>\n",
              "      <td>23</td>\n",
              "      <td>-</td>\n",
              "      <td>0</td>\n",
              "      <td>0</td>\n",
              "      <td>0</td>\n",
              "      <td>-</td>\n",
              "      <td>-</td>\n",
              "      <td>0</td>\n",
              "      <td>...</td>\n",
              "      <td>0</td>\n",
              "      <td>0</td>\n",
              "      <td>1</td>\n",
              "      <td>0</td>\n",
              "      <td>0</td>\n",
              "      <td>0</td>\n",
              "      <td>0</td>\n",
              "      <td>0</td>\n",
              "      <td>0</td>\n",
              "      <td>0</td>\n",
              "    </tr>\n",
              "    <tr>\n",
              "      <th>4</th>\n",
              "      <td>1525879838.024838</td>\n",
              "      <td>51524</td>\n",
              "      <td>23</td>\n",
              "      <td>-</td>\n",
              "      <td>0</td>\n",
              "      <td>0</td>\n",
              "      <td>0</td>\n",
              "      <td>-</td>\n",
              "      <td>-</td>\n",
              "      <td>0</td>\n",
              "      <td>...</td>\n",
              "      <td>0</td>\n",
              "      <td>0</td>\n",
              "      <td>1</td>\n",
              "      <td>0</td>\n",
              "      <td>0</td>\n",
              "      <td>0</td>\n",
              "      <td>0</td>\n",
              "      <td>0</td>\n",
              "      <td>0</td>\n",
              "      <td>0</td>\n",
              "    </tr>\n",
              "  </tbody>\n",
              "</table>\n",
              "<p>5 rows × 34 columns</p>\n",
              "</div>\n",
              "      <button class=\"colab-df-convert\" onclick=\"convertToInteractive('df-56a94c52-3bb6-4274-9270-6a0bb867ddfc')\"\n",
              "              title=\"Convert this dataframe to an interactive table.\"\n",
              "              style=\"display:none;\">\n",
              "        \n",
              "  <svg xmlns=\"http://www.w3.org/2000/svg\" height=\"24px\"viewBox=\"0 0 24 24\"\n",
              "       width=\"24px\">\n",
              "    <path d=\"M0 0h24v24H0V0z\" fill=\"none\"/>\n",
              "    <path d=\"M18.56 5.44l.94 2.06.94-2.06 2.06-.94-2.06-.94-.94-2.06-.94 2.06-2.06.94zm-11 1L8.5 8.5l.94-2.06 2.06-.94-2.06-.94L8.5 2.5l-.94 2.06-2.06.94zm10 10l.94 2.06.94-2.06 2.06-.94-2.06-.94-.94-2.06-.94 2.06-2.06.94z\"/><path d=\"M17.41 7.96l-1.37-1.37c-.4-.4-.92-.59-1.43-.59-.52 0-1.04.2-1.43.59L10.3 9.45l-7.72 7.72c-.78.78-.78 2.05 0 2.83L4 21.41c.39.39.9.59 1.41.59.51 0 1.02-.2 1.41-.59l7.78-7.78 2.81-2.81c.8-.78.8-2.07 0-2.86zM5.41 20L4 18.59l7.72-7.72 1.47 1.35L5.41 20z\"/>\n",
              "  </svg>\n",
              "      </button>\n",
              "      \n",
              "  <style>\n",
              "    .colab-df-container {\n",
              "      display:flex;\n",
              "      flex-wrap:wrap;\n",
              "      gap: 12px;\n",
              "    }\n",
              "\n",
              "    .colab-df-convert {\n",
              "      background-color: #E8F0FE;\n",
              "      border: none;\n",
              "      border-radius: 50%;\n",
              "      cursor: pointer;\n",
              "      display: none;\n",
              "      fill: #1967D2;\n",
              "      height: 32px;\n",
              "      padding: 0 0 0 0;\n",
              "      width: 32px;\n",
              "    }\n",
              "\n",
              "    .colab-df-convert:hover {\n",
              "      background-color: #E2EBFA;\n",
              "      box-shadow: 0px 1px 2px rgba(60, 64, 67, 0.3), 0px 1px 3px 1px rgba(60, 64, 67, 0.15);\n",
              "      fill: #174EA6;\n",
              "    }\n",
              "\n",
              "    [theme=dark] .colab-df-convert {\n",
              "      background-color: #3B4455;\n",
              "      fill: #D2E3FC;\n",
              "    }\n",
              "\n",
              "    [theme=dark] .colab-df-convert:hover {\n",
              "      background-color: #434B5C;\n",
              "      box-shadow: 0px 1px 3px 1px rgba(0, 0, 0, 0.15);\n",
              "      filter: drop-shadow(0px 1px 2px rgba(0, 0, 0, 0.3));\n",
              "      fill: #FFFFFF;\n",
              "    }\n",
              "  </style>\n",
              "\n",
              "      <script>\n",
              "        const buttonEl =\n",
              "          document.querySelector('#df-56a94c52-3bb6-4274-9270-6a0bb867ddfc button.colab-df-convert');\n",
              "        buttonEl.style.display =\n",
              "          google.colab.kernel.accessAllowed ? 'block' : 'none';\n",
              "\n",
              "        async function convertToInteractive(key) {\n",
              "          const element = document.querySelector('#df-56a94c52-3bb6-4274-9270-6a0bb867ddfc');\n",
              "          const dataTable =\n",
              "            await google.colab.kernel.invokeFunction('convertToInteractive',\n",
              "                                                     [key], {});\n",
              "          if (!dataTable) return;\n",
              "\n",
              "          const docLinkHtml = 'Like what you see? Visit the ' +\n",
              "            '<a target=\"_blank\" href=https://colab.research.google.com/notebooks/data_table.ipynb>data table notebook</a>'\n",
              "            + ' to learn more about interactive tables.';\n",
              "          element.innerHTML = '';\n",
              "          dataTable['output_type'] = 'display_data';\n",
              "          await google.colab.output.renderOutput(dataTable, element);\n",
              "          const docLink = document.createElement('div');\n",
              "          docLink.innerHTML = docLinkHtml;\n",
              "          element.appendChild(docLink);\n",
              "        }\n",
              "      </script>\n",
              "    </div>\n",
              "  </div>\n",
              "  "
            ]
          },
          "metadata": {},
          "execution_count": 8
        }
      ]
    },
    {
      "cell_type": "code",
      "source": [
        "dataFrame.columns\n",
        "types = dataFrame.dtypes\n",
        "print(types)"
      ],
      "metadata": {
        "colab": {
          "base_uri": "https://localhost:8080/"
        },
        "id": "bcd9hcnuK5BQ",
        "outputId": "997fbecd-2e12-44e3-e3f4-41702c3557b4"
      },
      "execution_count": null,
      "outputs": [
        {
          "output_type": "stream",
          "name": "stdout",
          "text": [
            "ts                   object\n",
            "id.orig_p            object\n",
            "id.resp_p            object\n",
            "service              object\n",
            "duration              int64\n",
            "orig_bytes            int64\n",
            "resp_bytes            int64\n",
            "local_orig            int64\n",
            "local_resp            int64\n",
            "missed_bytes          int64\n",
            "history              object\n",
            "orig_pkts             int64\n",
            "orig_ip_bytes         int64\n",
            "resp_pkts             int64\n",
            "resp_ip_bytes         int64\n",
            "label                object\n",
            "proto_enum            uint8\n",
            "proto_icmp            uint8\n",
            "proto_tcp             uint8\n",
            "proto_udp             uint8\n",
            "conn_state_OTH        uint8\n",
            "conn_state_REJ        uint8\n",
            "conn_state_RSTO       uint8\n",
            "conn_state_RSTOS0     uint8\n",
            "conn_state_RSTR       uint8\n",
            "conn_state_RSTRH      uint8\n",
            "conn_state_S0         uint8\n",
            "conn_state_S1         uint8\n",
            "conn_state_S2         uint8\n",
            "conn_state_S3         uint8\n",
            "conn_state_SF         uint8\n",
            "conn_state_SH         uint8\n",
            "conn_state_SHR        uint8\n",
            "conn_state_string     uint8\n",
            "dtype: object\n"
          ]
        }
      ]
    },
    {
      "cell_type": "code",
      "source": [
        "X = dataFrame[['duration', 'orig_bytes', 'resp_bytes', 'missed_bytes', 'orig_pkts', 'orig_ip_bytes', 'resp_pkts', 'resp_ip_bytes', 'proto_icmp', 'proto_tcp', 'proto_udp', 'conn_state_OTH', 'conn_state_REJ', 'conn_state_RSTO', 'conn_state_RSTOS0', 'conn_state_RSTR', 'conn_state_RSTRH', 'conn_state_S0', 'conn_state_S1', 'conn_state_S2', 'conn_state_S3', 'conn_state_SF', 'conn_state_SH', 'conn_state_SHR']]\n",
        "Y = dataFrame['label']"
      ],
      "metadata": {
        "id": "xgJM_yQNHrwy"
      },
      "execution_count": null,
      "outputs": []
    },
    {
      "cell_type": "code",
      "source": [
        "from sklearn.preprocessing import MinMaxScaler\n",
        "scaler = MinMaxScaler()\n",
        "normalized_x = scaler.fit_transform(X)\n",
        "normalized_x"
      ],
      "metadata": {
        "colab": {
          "base_uri": "https://localhost:8080/"
        },
        "id": "vEVPxf00LsfY",
        "outputId": "6811a14a-69db-48e0-f800-7a218e82e240"
      },
      "execution_count": null,
      "outputs": [
        {
          "output_type": "execute_result",
          "data": {
            "text/plain": [
              "array([[1.        , 1.        , 1.        , ..., 0.        , 0.        ,\n",
              "        0.        ],\n",
              "       [0.        , 0.        , 0.        , ..., 0.        , 0.        ,\n",
              "        0.        ],\n",
              "       [0.36530337, 0.        , 0.        , ..., 0.        , 0.        ,\n",
              "        0.        ],\n",
              "       ...,\n",
              "       [0.00232979, 0.9996993 , 0.98501071, ..., 1.        , 0.        ,\n",
              "        0.        ],\n",
              "       [0.00319455, 0.9996993 , 0.98501071, ..., 1.        , 0.        ,\n",
              "        0.        ],\n",
              "       [0.00261268, 0.9996993 , 0.98501071, ..., 1.        , 0.        ,\n",
              "        0.        ]])"
            ]
          },
          "metadata": {},
          "execution_count": 12
        }
      ]
    },
    {
      "cell_type": "markdown",
      "source": [
        "Naive-Bayes Classification"
      ],
      "metadata": {
        "id": "_TWqGNfQIdNW"
      }
    },
    {
      "cell_type": "code",
      "source": [
        "from sklearn.naive_bayes import GaussianNB"
      ],
      "metadata": {
        "id": "5xpCNRK9L-qJ"
      },
      "execution_count": null,
      "outputs": []
    },
    {
      "cell_type": "code",
      "source": [
        "X_train, X_test, Y_train, Y_test = train_test_split(normalized_x, Y, random_state=100, test_size=0.2)"
      ],
      "metadata": {
        "id": "B1H6CNrcuWBU"
      },
      "execution_count": null,
      "outputs": []
    },
    {
      "cell_type": "code",
      "source": [
        "print(len(X_test))\n",
        "print(len(Y_test))\n",
        "print(len(X_train))"
      ],
      "metadata": {
        "colab": {
          "base_uri": "https://localhost:8080/"
        },
        "id": "tBhAIA5VwTER",
        "outputId": "8a6affa6-5998-4ba6-928c-f9a76cedd01f"
      },
      "execution_count": null,
      "outputs": [
        {
          "output_type": "stream",
          "name": "stdout",
          "text": [
            "1345846\n",
            "1345846\n",
            "5383381\n"
          ]
        }
      ]
    },
    {
      "cell_type": "code",
      "source": [
        "df = pd.DataFrame(Y_test)\n",
        "df.columns\n",
        "print(df.loc[:,'label'].value_counts())"
      ],
      "metadata": {
        "colab": {
          "base_uri": "https://localhost:8080/"
        },
        "id": "5MmjYrSsw01N",
        "outputId": "a00e57a5-678a-4d8e-aed4-baf6eaf373ba"
      },
      "execution_count": null,
      "outputs": [
        {
          "output_type": "stream",
          "name": "stdout",
          "text": [
            "PartOfAHorizontalPortScan        473777\n",
            "Benign                           439711\n",
            "DDoS                             289146\n",
            "Okiru                            141789\n",
            "C&C                                 815\n",
            "Attack                              440\n",
            "C&C-HeartBeat                       125\n",
            "C&C-PartOfAHorizontalPortScan        36\n",
            "String                                3\n",
            "FileDownload                          2\n",
            "C&C-Torii                             1\n",
            "C&C-FileDownload                      1\n",
            "Name: label, dtype: int64\n"
          ]
        }
      ]
    },
    {
      "cell_type": "code",
      "source": [
        "clf = GaussianNB()\n",
        "clf.fit(X_train, Y_train)"
      ],
      "metadata": {
        "colab": {
          "base_uri": "https://localhost:8080/"
        },
        "id": "j-_Y-pbEuZKP",
        "outputId": "e450d84d-5673-4d2c-a44f-b8c9d98ea54e"
      },
      "execution_count": null,
      "outputs": [
        {
          "output_type": "execute_result",
          "data": {
            "text/plain": [
              "GaussianNB()"
            ]
          },
          "metadata": {},
          "execution_count": 17
        }
      ]
    },
    {
      "cell_type": "code",
      "source": [
        "y_pred = clf.fit(X_train, Y_train).predict(X_test)\n",
        "print(y_pred)\n",
        "print()\n",
        "\n",
        "clf = GaussianNB().fit(X_train, Y_train)\n",
        "print()\n",
        "print(clf.score(X_test, Y_test))\n",
        "print()\n",
        "\n"
      ],
      "metadata": {
        "colab": {
          "base_uri": "https://localhost:8080/"
        },
        "id": "c8sne4ebvptQ",
        "outputId": "2679da87-4f1e-48a7-d6a8-d0a65bdab0a7"
      },
      "execution_count": null,
      "outputs": [
        {
          "output_type": "stream",
          "name": "stdout",
          "text": [
            "program start...\n",
            "\n",
            "\n",
            "0.2319388696775114\n",
            "\n",
            "['C&C-PartOfAHorizontalPortScan' 'C&C-PartOfAHorizontalPortScan'\n",
            " 'C&C-PartOfAHorizontalPortScan' ... 'C&C-PartOfAHorizontalPortScan'\n",
            " 'C&C-PartOfAHorizontalPortScan' 'C&C-Torii']\n",
            "\n",
            "program end...\n",
            "\n",
            "time cost: \n",
            "35.880067586898804 seconds\n"
          ]
        }
      ]
    },
    {
      "cell_type": "code",
      "source": [
        "print(\"Classifiction Report :\")\n",
        "print(classification_report(Y_test, y_pred))\n",
        "from sklearn.metrics import precision_score\n",
        "precision_score(Y_test, y_pred,zero_division=1, average='macro')"
      ],
      "metadata": {
        "colab": {
          "base_uri": "https://localhost:8080/"
        },
        "id": "rtFgXHRUvxqW",
        "outputId": "e4df9c22-6537-4444-870b-0f76d786c7f5"
      },
      "execution_count": null,
      "outputs": [
        {
          "output_type": "stream",
          "name": "stdout",
          "text": [
            "Classifiction Report :\n"
          ]
        },
        {
          "output_type": "stream",
          "name": "stderr",
          "text": [
            "/usr/local/lib/python3.7/dist-packages/sklearn/metrics/_classification.py:1318: UndefinedMetricWarning: Precision and F-score are ill-defined and being set to 0.0 in labels with no predicted samples. Use `zero_division` parameter to control this behavior.\n",
            "  _warn_prf(average, modifier, msg_start, len(result))\n",
            "/usr/local/lib/python3.7/dist-packages/sklearn/metrics/_classification.py:1318: UndefinedMetricWarning: Precision and F-score are ill-defined and being set to 0.0 in labels with no predicted samples. Use `zero_division` parameter to control this behavior.\n",
            "  _warn_prf(average, modifier, msg_start, len(result))\n",
            "/usr/local/lib/python3.7/dist-packages/sklearn/metrics/_classification.py:1318: UndefinedMetricWarning: Precision and F-score are ill-defined and being set to 0.0 in labels with no predicted samples. Use `zero_division` parameter to control this behavior.\n",
            "  _warn_prf(average, modifier, msg_start, len(result))\n"
          ]
        },
        {
          "output_type": "stream",
          "name": "stdout",
          "text": [
            "                               precision    recall  f1-score   support\n",
            "\n",
            "                       Attack       0.41      0.68      0.51       440\n",
            "                       Benign       0.98      0.05      0.10    439711\n",
            "                          C&C       0.35      0.11      0.16       815\n",
            "             C&C-FileDownload       0.03      1.00      0.05         1\n",
            "                C&C-HeartBeat       0.09      0.70      0.17       125\n",
            "C&C-PartOfAHorizontalPortScan       0.00      1.00      0.00        36\n",
            "                    C&C-Torii       0.00      0.00      0.00         1\n",
            "                         DDoS       1.00      0.99      1.00    289146\n",
            "                 FileDownload       0.00      0.50      0.00         2\n",
            "                        Okiru       0.00      0.00      0.00    141789\n",
            "    PartOfAHorizontalPortScan       1.00      0.00      0.00    473777\n",
            "                       String       1.00      1.00      1.00         3\n",
            "\n",
            "                     accuracy                           0.23   1345846\n",
            "                    macro avg       0.41      0.50      0.25   1345846\n",
            "                 weighted avg       0.89      0.23      0.25   1345846\n",
            "\n"
          ]
        },
        {
          "output_type": "execute_result",
          "data": {
            "text/plain": [
              "0.48897318387139727"
            ]
          },
          "metadata": {},
          "execution_count": 19
        }
      ]
    },
    {
      "cell_type": "markdown",
      "source": [
        "Decision Trees"
      ],
      "metadata": {
        "id": "GxdrvF2NJVaX"
      }
    },
    {
      "cell_type": "code",
      "source": [
        "from sklearn.tree import DecisionTreeClassifier"
      ],
      "metadata": {
        "id": "T2wyHi3BKo-L"
      },
      "execution_count": null,
      "outputs": []
    },
    {
      "cell_type": "code",
      "source": [
        "DT = DecisionTreeClassifier()"
      ],
      "metadata": {
        "id": "0taUqEi0v9v3"
      },
      "execution_count": null,
      "outputs": []
    },
    {
      "cell_type": "code",
      "source": [
        "X = dataFrame[['duration', 'orig_bytes', 'resp_bytes', 'missed_bytes', 'orig_pkts', 'orig_ip_bytes', 'resp_pkts', 'resp_ip_bytes', 'proto_icmp', 'proto_tcp', 'proto_udp', 'conn_state_OTH', 'conn_state_REJ', 'conn_state_RSTO', 'conn_state_RSTOS0', 'conn_state_RSTR', 'conn_state_RSTRH', 'conn_state_S0', 'conn_state_S1', 'conn_state_S2', 'conn_state_S3', 'conn_state_SF', 'conn_state_SH', 'conn_state_SHR']]\n",
        "Y = dataFrame['label']\n",
        "X_train, X_test, Y_train, Y_test = train_test_split(X, Y, random_state=100, test_size=0.2)"
      ],
      "metadata": {
        "id": "bLXAtC3HJbTM"
      },
      "execution_count": null,
      "outputs": []
    },
    {
      "cell_type": "code",
      "source": [
        "DT.fit(X_train, Y_train)\n",
        "print()\n",
        "\n",
        "print('prediction:')\n",
        "y_pred = DT.predict(X_test)\n",
        "print(y_pred)\n",
        "print()\n",
        "\n",
        "print('Score:')\n",
        "score = DT.score(X_test,Y_test)\n",
        "print(score)"
      ],
      "metadata": {
        "colab": {
          "base_uri": "https://localhost:8080/"
        },
        "id": "eg6iicoFJpIn",
        "outputId": "a83bce15-c9ff-48a6-ec04-c719b6c5ac41"
      },
      "execution_count": null,
      "outputs": [
        {
          "output_type": "stream",
          "name": "stdout",
          "text": [
            "program start...\n",
            "\n",
            "\n",
            "prediction:\n",
            "['Okiru' 'PartOfAHorizontalPortScan' 'PartOfAHorizontalPortScan' ...\n",
            " 'Okiru' 'PartOfAHorizontalPortScan' 'Benign']\n",
            "\n",
            "Score:\n",
            "0.9973451643055743\n",
            "program end...\n",
            "\n",
            "time cost: \n",
            "34.46449041366577 seconds\n"
          ]
        }
      ]
    },
    {
      "cell_type": "code",
      "source": [
        "print(\"Classifiction Report :\")\n",
        "print(classification_report(Y_test, y_pred))"
      ],
      "metadata": {
        "colab": {
          "base_uri": "https://localhost:8080/"
        },
        "id": "RJOyVs1TJsBW",
        "outputId": "84f038b9-3d06-4e44-fbd5-ffc16e88c937"
      },
      "execution_count": null,
      "outputs": [
        {
          "output_type": "stream",
          "name": "stdout",
          "text": [
            "Classifiction Report :\n"
          ]
        },
        {
          "output_type": "stream",
          "name": "stderr",
          "text": [
            "/usr/local/lib/python3.7/dist-packages/sklearn/metrics/_classification.py:1318: UndefinedMetricWarning: Precision and F-score are ill-defined and being set to 0.0 in labels with no predicted samples. Use `zero_division` parameter to control this behavior.\n",
            "  _warn_prf(average, modifier, msg_start, len(result))\n",
            "/usr/local/lib/python3.7/dist-packages/sklearn/metrics/_classification.py:1318: UndefinedMetricWarning: Precision and F-score are ill-defined and being set to 0.0 in labels with no predicted samples. Use `zero_division` parameter to control this behavior.\n",
            "  _warn_prf(average, modifier, msg_start, len(result))\n"
          ]
        },
        {
          "output_type": "stream",
          "name": "stdout",
          "text": [
            "                               precision    recall  f1-score   support\n",
            "\n",
            "                       Attack       0.98      0.99      0.98       440\n",
            "                       Benign       1.00      0.99      1.00    439711\n",
            "                          C&C       0.79      0.35      0.48       815\n",
            "             C&C-FileDownload       0.00      0.00      0.00         1\n",
            "                C&C-HeartBeat       0.73      0.58      0.65       125\n",
            "C&C-PartOfAHorizontalPortScan       0.00      0.00      0.00        36\n",
            "                    C&C-Torii       0.00      0.00      0.00         1\n",
            "                         DDoS       1.00      1.00      1.00    289146\n",
            "                 FileDownload       1.00      0.50      0.67         2\n",
            "                        Okiru       1.00      1.00      1.00    141789\n",
            "    PartOfAHorizontalPortScan       0.99      1.00      1.00    473777\n",
            "                       String       1.00      1.00      1.00         3\n",
            "\n",
            "                     accuracy                           1.00   1345846\n",
            "                    macro avg       0.71      0.62      0.65   1345846\n",
            "                 weighted avg       1.00      1.00      1.00   1345846\n",
            "\n"
          ]
        },
        {
          "output_type": "stream",
          "name": "stderr",
          "text": [
            "/usr/local/lib/python3.7/dist-packages/sklearn/metrics/_classification.py:1318: UndefinedMetricWarning: Precision and F-score are ill-defined and being set to 0.0 in labels with no predicted samples. Use `zero_division` parameter to control this behavior.\n",
            "  _warn_prf(average, modifier, msg_start, len(result))\n"
          ]
        }
      ]
    },
    {
      "cell_type": "code",
      "source": [
        "from sklearn.metrics import precision_score\n",
        "precision_score(Y_test, y_pred,zero_division=1, average='macro')"
      ],
      "metadata": {
        "colab": {
          "base_uri": "https://localhost:8080/"
        },
        "id": "FxN9U5PkLAbI",
        "outputId": "0c846a29-d6df-424f-e4de-7da8828c469d"
      },
      "execution_count": null,
      "outputs": [
        {
          "output_type": "execute_result",
          "data": {
            "text/plain": [
              "0.7906858844695993"
            ]
          },
          "metadata": {},
          "execution_count": 25
        }
      ]
    },
    {
      "cell_type": "markdown",
      "source": [],
      "metadata": {
        "id": "wPvR815JfUKi"
      }
    }
  ]
}